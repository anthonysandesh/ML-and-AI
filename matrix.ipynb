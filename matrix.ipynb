{
  "nbformat": 4,
  "nbformat_minor": 0,
  "metadata": {
    "colab": {
      "name": "assignment3.ipynb",
      "provenance": [],
      "collapsed_sections": [],
      "authorship_tag": "ABX9TyOvKpxkyZLR3SuvtpSFGqd3",
      "include_colab_link": true
    },
    "kernelspec": {
      "name": "python3",
      "display_name": "Python 3"
    }
  },
  "cells": [
    {
      "cell_type": "markdown",
      "metadata": {
        "id": "view-in-github",
        "colab_type": "text"
      },
      "source": [
        "<a href=\"https://colab.research.google.com/github/antonysandesh/my-first-repo/blob/master/matrix.ipynb\" target=\"_parent\"><img src=\"https://colab.research.google.com/assets/colab-badge.svg\" alt=\"Open In Colab\"/></a>"
      ]
    },
    {
      "cell_type": "code",
      "metadata": {
        "id": "VK751xQCxleR",
        "colab_type": "code",
        "colab": {
          "base_uri": "https://localhost:8080/",
          "height": 34
        },
        "outputId": "af80c85c-cd18-476b-fbae-cb76f25aca13"
      },
      "source": [
        "# Matrix multiplication using python\n",
        "\n",
        "def Multiply(m1,m2):\n",
        "    Rows = len(m1)\n",
        "    Col = len(m2[0])\n",
        "    MatrixMul = [[0] * Col for i in range(Rows)]\n",
        "    for i in range(Rows):\n",
        "        for j in range(Col):\n",
        "            for k in range(len(m2)):\n",
        "                MatrixMul[i][j]+=m1[i][k]*m2[k][j]\n",
        "    return MatrixMul    \n",
        "m1 = [[2,3,2,4],[4,7,8,3]]\n",
        "m2 = [[3,4,5,8],[6,8,2,1],[3,6,7,4]]\n",
        "print(Multiply(m1,m2))\n"
      ],
      "execution_count": 15,
      "outputs": [
        {
          "output_type": "stream",
          "text": [
            "[[30, 44, 30, 27], [78, 120, 90, 71]]\n"
          ],
          "name": "stdout"
        }
      ]
    },
    {
      "cell_type": "code",
      "metadata": {
        "id": "uxnawWG-ypZf",
        "colab_type": "code",
        "colab": {
          "base_uri": "https://localhost:8080/",
          "height": 50
        },
        "outputId": "5a9c14f3-9e07-45cb-bc85-e6d17836c144"
      },
      "source": [
        "#Matrix multiplication using numpy\n",
        "import numpy as np\n",
        "def Multiply(m1,m2):\n",
        "    a = np.dot(m1,m2)\n",
        "    return a\n",
        "m1 = [[2,3,2],[4,7,8]]\n",
        "m2 = [[3,4,5,8,7],[6,8,2,1,4],[3,6,7,4,6]]\n",
        "Result = Multiply(m1,m2)\n",
        "print(Result)"
      ],
      "execution_count": 2,
      "outputs": [
        {
          "output_type": "stream",
          "text": [
            "[[ 30  44  30  27  38]\n",
            " [ 78 120  90  71 104]]\n"
          ],
          "name": "stdout"
        }
      ]
    },
    {
      "cell_type": "code",
      "metadata": {
        "id": "c_ZX4Kg9zAME",
        "colab_type": "code",
        "colab": {
          "base_uri": "https://localhost:8080/",
          "height": 50
        },
        "outputId": "7ea3f9e1-e5fa-4f1e-e566-876d12dabb6b"
      },
      "source": [
        "#Removing duplicate elements from the list\n",
        "def Removedup(list):\n",
        "    d = []\n",
        "    print(\"The original list is:\",list)\n",
        "    for i in list:\n",
        "        if i not in d:\n",
        "            d.append(i)\n",
        "    return d\n",
        "list = [1,3,4,5,6,7,3,4,2,6,8,5,3,9,2,3,4,5,6,4,4]\n",
        "result = Removedup(list)\n",
        "print(\"list after removing duplicates:\",result)"
      ],
      "execution_count": 3,
      "outputs": [
        {
          "output_type": "stream",
          "text": [
            "The original list is: [1, 3, 4, 5, 6, 7, 3, 4, 2, 6, 8, 5, 3, 9, 2, 3, 4, 5, 6, 4, 4]\n",
            "list after removing duplicates: [1, 3, 4, 5, 6, 7, 2, 8, 9]\n"
          ],
          "name": "stdout"
        }
      ]
    },
    {
      "cell_type": "code",
      "metadata": {
        "id": "O0DFBf05zo_f",
        "colab_type": "code",
        "colab": {
          "base_uri": "https://localhost:8080/",
          "height": 50
        },
        "outputId": "2aad3de8-cb68-4b57-8edc-e9bbb6385cd1"
      },
      "source": [
        "# fibinocci series\n",
        "def fibinocci(n):\n",
        "    a = 0\n",
        "    b = 1\n",
        "    if n < 0:\n",
        "        print(\"enter a positive number\")\n",
        "    else:\n",
        "        print(a,end=\"  \")\n",
        "        for i in range(2,n+1):\n",
        "            temp = a + b\n",
        "            a = b\n",
        "            b = temp\n",
        "            print(temp,end= '  ')\n",
        "fibinocci(int(input(\"enter a number for fibinocci\")))"
      ],
      "execution_count": 18,
      "outputs": [
        {
          "output_type": "stream",
          "text": [
            "enter a number for fibinocci10\n",
            "0  1  2  3  5  8  13  21  34  55  "
          ],
          "name": "stdout"
        }
      ]
    },
    {
      "cell_type": "code",
      "metadata": {
        "id": "YTPf1OEf0S8F",
        "colab_type": "code",
        "colab": {
          "base_uri": "https://localhost:8080/",
          "height": 67
        },
        "outputId": "c3c1f79b-8984-49e5-9303-f7fe9fc5263c"
      },
      "source": [
        "#Reshape of matrix using numpy\n",
        "import numpy as np \n",
        "           \n",
        "a = np.array([64, 1,3,4,5,1]) \n",
        "print(a)\n",
        "\n",
        "b = a.reshape(2,3)\n",
        "print(b)"
      ],
      "execution_count": 5,
      "outputs": [
        {
          "output_type": "stream",
          "text": [
            "[64  1  3  4  5  1]\n",
            "[[64  1  3]\n",
            " [ 4  5  1]]\n"
          ],
          "name": "stdout"
        }
      ]
    },
    {
      "cell_type": "code",
      "metadata": {
        "id": "93Zva1Wx0m-_",
        "colab_type": "code",
        "colab": {
          "base_uri": "https://localhost:8080/",
          "height": 67
        },
        "outputId": "6d40b66c-9c3d-4eb0-ff9e-d6febec0f743"
      },
      "source": [
        "#Reshape using matrix\n",
        "import numpy as np\n",
        "\n",
        "def reshape(l,n,m):\n",
        "    a = [[0] * m for i in range(n)]\n",
        "    idx = 0\n",
        "    for i in range(n):\n",
        "        for j in range(m):\n",
        "            a[i][j] = l[idx]\n",
        "            idx += 1\n",
        "    return np.array(a)\n",
        "\n",
        "reshape([1,2,3,4,5,6], 3,2)"
      ],
      "execution_count": 16,
      "outputs": [
        {
          "output_type": "execute_result",
          "data": {
            "text/plain": [
              "array([[1, 2],\n",
              "       [3, 4],\n",
              "       [5, 6]])"
            ]
          },
          "metadata": {
            "tags": []
          },
          "execution_count": 16
        }
      ]
    }
  ]
}
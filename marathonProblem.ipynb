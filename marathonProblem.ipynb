{
  "nbformat": 4,
  "nbformat_minor": 0,
  "metadata": {
    "colab": {
      "name": "marathonProblem.ipynb",
      "provenance": [],
      "collapsed_sections": [],
      "authorship_tag": "ABX9TyOFJj2KtYLfvqQZt69VKWds",
      "include_colab_link": true
    },
    "kernelspec": {
      "name": "python3",
      "display_name": "Python 3"
    }
  },
  "cells": [
    {
      "cell_type": "markdown",
      "metadata": {
        "id": "view-in-github",
        "colab_type": "text"
      },
      "source": [
        "<a href=\"https://colab.research.google.com/github/antonysandesh/my-first-repo/blob/master/marathonProblem.ipynb\" target=\"_parent\"><img src=\"https://colab.research.google.com/assets/colab-badge.svg\" alt=\"Open In Colab\"/></a>"
      ]
    },
    {
      "cell_type": "code",
      "metadata": {
        "id": "eZ6jMnJ6zGgT",
        "colab_type": "code",
        "colab": {}
      },
      "source": [
        "#Marathon problem\n",
        "import numpy as np\n",
        "\n",
        "a = np.array([[2,3,5,4],\n",
        "             [3,5,2,1],\n",
        "             [7,6,2,1],\n",
        "             [3,2,4,5],\n",
        "             [2,2,2,2]])\n",
        "\n",
        "b = np.array([3,5,2,3])\n",
        "\n"
      ],
      "execution_count": 0,
      "outputs": []
    },
    {
      "cell_type": "code",
      "metadata": {
        "id": "g4FAvzSRJ3wa",
        "colab_type": "code",
        "outputId": "bad80fc2-bb33-40f0-dba5-656d1263d187",
        "colab": {
          "base_uri": "https://localhost:8080/",
          "height": 67
        }
      },
      "source": [
        "#1\n",
        "print(a.dot(b))\n",
        "print(a.dot(b).argmax())\n",
        "print(a.dot(b).argmin())"
      ],
      "execution_count": 3,
      "outputs": [
        {
          "output_type": "stream",
          "text": [
            "[43 41 58 42 26]\n",
            "2\n",
            "4\n"
          ],
          "name": "stdout"
        }
      ]
    },
    {
      "cell_type": "code",
      "metadata": {
        "id": "G43JzSwsKfGK",
        "colab_type": "code",
        "outputId": "4d8c2d0a-6d2c-4107-f842-fbaa5a059b1c",
        "colab": {
          "base_uri": "https://localhost:8080/",
          "height": 101
        }
      },
      "source": [
        "print(a[0].dot(b))\n",
        "print(a[1].dot(b))\n",
        "print(a[2].dot(b))\n",
        "print(a[3].dot(b))\n",
        "print(a[4].dot(b))\n",
        "\n"
      ],
      "execution_count": 4,
      "outputs": [
        {
          "output_type": "stream",
          "text": [
            "43\n",
            "41\n",
            "58\n",
            "42\n",
            "26\n"
          ],
          "name": "stdout"
        }
      ]
    },
    {
      "cell_type": "code",
      "metadata": {
        "id": "hopnuP0CLNZI",
        "colab_type": "code",
        "outputId": "3e085b58-ed9b-4eab-f8ec-7259cef128c7",
        "colab": {
          "base_uri": "https://localhost:8080/",
          "height": 34
        }
      },
      "source": [
        "#3\n",
        "print(a[1,0:].dot(b))"
      ],
      "execution_count": 5,
      "outputs": [
        {
          "output_type": "stream",
          "text": [
            "41\n"
          ],
          "name": "stdout"
        }
      ]
    },
    {
      "cell_type": "code",
      "metadata": {
        "id": "36G_H2Z4OEry",
        "colab_type": "code",
        "outputId": "7d8d1792-d239-4c62-8b3d-875aa3cebfb3",
        "colab": {
          "base_uri": "https://localhost:8080/",
          "height": 101
        }
      },
      "source": [
        "\n",
        "c = a * b\n",
        "\n",
        "print(c)"
      ],
      "execution_count": 6,
      "outputs": [
        {
          "output_type": "stream",
          "text": [
            "[[ 6 15 10 12]\n",
            " [ 9 25  4  3]\n",
            " [21 30  4  3]\n",
            " [ 9 10  8 15]\n",
            " [ 6 10  4  6]]\n"
          ],
          "name": "stdout"
        }
      ]
    },
    {
      "cell_type": "code",
      "metadata": {
        "id": "-xI-1Rz4OtXw",
        "colab_type": "code",
        "outputId": "89baef2d-be52-4d93-d59d-3686df530449",
        "colab": {
          "base_uri": "https://localhost:8080/",
          "height": 34
        }
      },
      "source": [
        "c.sum(axis=1)"
      ],
      "execution_count": 7,
      "outputs": [
        {
          "output_type": "execute_result",
          "data": {
            "text/plain": [
              "array([43, 41, 58, 42, 26])"
            ]
          },
          "metadata": {
            "tags": []
          },
          "execution_count": 7
        }
      ]
    },
    {
      "cell_type": "code",
      "metadata": {
        "id": "QBG-7Ku9O1Qd",
        "colab_type": "code",
        "outputId": "ad85d53d-4790-4c7b-b03a-30dcdde5cfd0",
        "colab": {
          "base_uri": "https://localhost:8080/",
          "height": 34
        }
      },
      "source": [
        "c.sum(axis=1).argmax()\n"
      ],
      "execution_count": 8,
      "outputs": [
        {
          "output_type": "execute_result",
          "data": {
            "text/plain": [
              "2"
            ]
          },
          "metadata": {
            "tags": []
          },
          "execution_count": 8
        }
      ]
    },
    {
      "cell_type": "code",
      "metadata": {
        "id": "al1I-TWgsUdE",
        "colab_type": "code",
        "outputId": "1284ccb8-be0e-4a52-b5d7-e7c6dec0ee02",
        "colab": {
          "base_uri": "https://localhost:8080/",
          "height": 34
        }
      },
      "source": [
        "c.argmax(axis=0)"
      ],
      "execution_count": 9,
      "outputs": [
        {
          "output_type": "execute_result",
          "data": {
            "text/plain": [
              "array([2, 2, 0, 3])"
            ]
          },
          "metadata": {
            "tags": []
          },
          "execution_count": 9
        }
      ]
    },
    {
      "cell_type": "code",
      "metadata": {
        "id": "rOpqICIlPwQH",
        "colab_type": "code",
        "outputId": "26514c87-25c1-4dd5-8b32-a45adec5f8db",
        "colab": {
          "base_uri": "https://localhost:8080/",
          "height": 34
        }
      },
      "source": [
        "\n",
        "c[1].sum()"
      ],
      "execution_count": 10,
      "outputs": [
        {
          "output_type": "execute_result",
          "data": {
            "text/plain": [
              "41"
            ]
          },
          "metadata": {
            "tags": []
          },
          "execution_count": 10
        }
      ]
    },
    {
      "cell_type": "code",
      "metadata": {
        "id": "dvARHgxAP7E4",
        "colab_type": "code",
        "outputId": "5d32276a-765f-4998-b0f4-b29587dc397a",
        "colab": {
          "base_uri": "https://localhost:8080/",
          "height": 34
        }
      },
      "source": [
        "#4-1\n",
        "c[2,:3].sum()"
      ],
      "execution_count": 11,
      "outputs": [
        {
          "output_type": "execute_result",
          "data": {
            "text/plain": [
              "55"
            ]
          },
          "metadata": {
            "tags": []
          },
          "execution_count": 11
        }
      ]
    },
    {
      "cell_type": "code",
      "metadata": {
        "id": "x-AQbjfxQPvf",
        "colab_type": "code",
        "outputId": "a9369390-e06a-4e46-bfa0-3b9ebe14b70b",
        "colab": {
          "base_uri": "https://localhost:8080/",
          "height": 34
        }
      },
      "source": [
        "#4-2\n",
        "c[3,[0,2,3]].sum()"
      ],
      "execution_count": 12,
      "outputs": [
        {
          "output_type": "execute_result",
          "data": {
            "text/plain": [
              "32"
            ]
          },
          "metadata": {
            "tags": []
          },
          "execution_count": 12
        }
      ]
    },
    {
      "cell_type": "code",
      "metadata": {
        "id": "SqFm6dUjQmrK",
        "colab_type": "code",
        "outputId": "25002856-2fa8-45cf-9bac-1cc93f6aa36f",
        "colab": {
          "base_uri": "https://localhost:8080/",
          "height": 34
        }
      },
      "source": [
        "#4-3\n",
        "c[2:,[0,2,3]].sum(axis=1)"
      ],
      "execution_count": 13,
      "outputs": [
        {
          "output_type": "execute_result",
          "data": {
            "text/plain": [
              "array([28, 32, 16])"
            ]
          },
          "metadata": {
            "tags": []
          },
          "execution_count": 13
        }
      ]
    },
    {
      "cell_type": "code",
      "metadata": {
        "id": "0fjO8GQGSQX6",
        "colab_type": "code",
        "outputId": "0b94af6a-34aa-4f2e-91f4-c7050279b754",
        "colab": {
          "base_uri": "https://localhost:8080/",
          "height": 50
        }
      },
      "source": [
        "#5\n",
        "print(c[:,1]>c[0,1])\n",
        "print((c[:,1]>c[0,1]).sum())"
      ],
      "execution_count": 14,
      "outputs": [
        {
          "output_type": "stream",
          "text": [
            "[False  True  True False False]\n",
            "2\n"
          ],
          "name": "stdout"
        }
      ]
    },
    {
      "cell_type": "code",
      "metadata": {
        "id": "B8-clXdmT02G",
        "colab_type": "code",
        "outputId": "fa2829a7-94c7-4bc4-86b4-d0f4e4f7c057",
        "colab": {
          "base_uri": "https://localhost:8080/",
          "height": 34
        }
      },
      "source": [
        "#6\n",
        "e = c[:,[0,1,3]].sum(axis=1)\n",
        "e>e[0]\n",
        "print((e>e[0]).sum())\n"
      ],
      "execution_count": 15,
      "outputs": [
        {
          "output_type": "stream",
          "text": [
            "3\n"
          ],
          "name": "stdout"
        }
      ]
    },
    {
      "cell_type": "code",
      "metadata": {
        "id": "SDO1-JZKoZiE",
        "colab_type": "code",
        "outputId": "5abeab9c-e844-4429-8294-5474f468be7e",
        "colab": {
          "base_uri": "https://localhost:8080/",
          "height": 34
        }
      },
      "source": [
        "#7-1\n",
        "c[0].sum()-c[4].sum()"
      ],
      "execution_count": 16,
      "outputs": [
        {
          "output_type": "execute_result",
          "data": {
            "text/plain": [
              "17"
            ]
          },
          "metadata": {
            "tags": []
          },
          "execution_count": 16
        }
      ]
    },
    {
      "cell_type": "code",
      "metadata": {
        "id": "2k7kXu7dvZ-Q",
        "colab_type": "code",
        "outputId": "f0cecc69-15c4-4bda-807b-1779123f5fd9",
        "colab": {
          "base_uri": "https://localhost:8080/",
          "height": 34
        }
      },
      "source": [
        "#7-2\n",
        "c[:,0].mean()"
      ],
      "execution_count": 17,
      "outputs": [
        {
          "output_type": "execute_result",
          "data": {
            "text/plain": [
              "10.2"
            ]
          },
          "metadata": {
            "tags": []
          },
          "execution_count": 17
        }
      ]
    },
    {
      "cell_type": "code",
      "metadata": {
        "id": "u9_y5d5AvrNc",
        "colab_type": "code",
        "outputId": "ebe50382-55a7-41b7-a407-f5239f9bb81a",
        "colab": {
          "base_uri": "https://localhost:8080/",
          "height": 34
        }
      },
      "source": [
        "#7-3\n",
        "c[0].mean()"
      ],
      "execution_count": 18,
      "outputs": [
        {
          "output_type": "execute_result",
          "data": {
            "text/plain": [
              "10.75"
            ]
          },
          "metadata": {
            "tags": []
          },
          "execution_count": 18
        }
      ]
    },
    {
      "cell_type": "code",
      "metadata": {
        "id": "epgMgcs5wk11",
        "colab_type": "code",
        "colab": {
          "base_uri": "https://localhost:8080/",
          "height": 34
        },
        "outputId": "00671ac7-921b-434c-cec2-448433f50a34"
      },
      "source": [
        "#7-4\n",
        "c.mean(axis=1)"
      ],
      "execution_count": 19,
      "outputs": [
        {
          "output_type": "execute_result",
          "data": {
            "text/plain": [
              "array([10.75, 10.25, 14.5 , 10.5 ,  6.5 ])"
            ]
          },
          "metadata": {
            "tags": []
          },
          "execution_count": 19
        }
      ]
    },
    {
      "cell_type": "code",
      "metadata": {
        "id": "rtSrXr_WxmUT",
        "colab_type": "code",
        "outputId": "7a144ea0-c2e4-4a5e-bff1-ff8edb7c7a78",
        "colab": {
          "base_uri": "https://localhost:8080/",
          "height": 34
        }
      },
      "source": [
        "#8\n",
        "c.sum(axis=0).argmax()\n"
      ],
      "execution_count": 20,
      "outputs": [
        {
          "output_type": "execute_result",
          "data": {
            "text/plain": [
              "1"
            ]
          },
          "metadata": {
            "tags": []
          },
          "execution_count": 20
        }
      ]
    },
    {
      "cell_type": "code",
      "metadata": {
        "id": "cOL_M4yjzBmt",
        "colab_type": "code",
        "outputId": "cac25b21-e008-4365-d5c4-c718a9c6473e",
        "colab": {
          "base_uri": "https://localhost:8080/",
          "height": 34
        }
      },
      "source": [
        "#8\n",
        "c.sum(axis=0).argmin()\n"
      ],
      "execution_count": 21,
      "outputs": [
        {
          "output_type": "execute_result",
          "data": {
            "text/plain": [
              "2"
            ]
          },
          "metadata": {
            "tags": []
          },
          "execution_count": 21
        }
      ]
    },
    {
      "cell_type": "code",
      "metadata": {
        "id": "_k01gueFzEhC",
        "colab_type": "code",
        "outputId": "bc0e0996-e7a2-476e-e35a-0a648812aa14",
        "colab": {
          "base_uri": "https://localhost:8080/",
          "height": 34
        }
      },
      "source": [
        "#9\n",
        "b.argmax()"
      ],
      "execution_count": 22,
      "outputs": [
        {
          "output_type": "execute_result",
          "data": {
            "text/plain": [
              "1"
            ]
          },
          "metadata": {
            "tags": []
          },
          "execution_count": 22
        }
      ]
    },
    {
      "cell_type": "code",
      "metadata": {
        "id": "DZ_JX1nPzGfv",
        "colab_type": "code",
        "outputId": "2c3d75ec-cd64-4ef7-8c39-f20dfe28901a",
        "colab": {
          "base_uri": "https://localhost:8080/",
          "height": 34
        }
      },
      "source": [
        "#10\n",
        "a[:,3].mean()"
      ],
      "execution_count": 23,
      "outputs": [
        {
          "output_type": "execute_result",
          "data": {
            "text/plain": [
              "2.6"
            ]
          },
          "metadata": {
            "tags": []
          },
          "execution_count": 23
        }
      ]
    },
    {
      "cell_type": "code",
      "metadata": {
        "id": "VQqgW0zEzeHJ",
        "colab_type": "code",
        "colab": {}
      },
      "source": [
        ""
      ],
      "execution_count": 0,
      "outputs": []
    }
  ]
}
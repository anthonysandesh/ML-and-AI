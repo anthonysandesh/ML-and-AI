{
  "nbformat": 4,
  "nbformat_minor": 0,
  "metadata": {
    "colab": {
      "name": "assignment3.ipynb",
      "provenance": [],
      "collapsed_sections": [],
      "authorship_tag": "ABX9TyMM14xSze3/O5RVNseNt255",
      "include_colab_link": true
    },
    "kernelspec": {
      "name": "python3",
      "display_name": "Python 3"
    }
  },
  "cells": [
    {
      "cell_type": "markdown",
      "metadata": {
        "id": "view-in-github",
        "colab_type": "text"
      },
      "source": [
        "<a href=\"https://colab.research.google.com/github/antonysandesh/my-first-repo/blob/master/matrixmultiplication%2Cetc.ipynb\" target=\"_parent\"><img src=\"https://colab.research.google.com/assets/colab-badge.svg\" alt=\"Open In Colab\"/></a>"
      ]
    },
    {
      "cell_type": "code",
      "metadata": {
        "id": "VK751xQCxleR",
        "colab_type": "code",
        "colab": {
          "base_uri": "https://localhost:8080/",
          "height": 34
        },
        "outputId": "a9775de2-a6a9-4b49-9c35-12855b23de85"
      },
      "source": [
        "# Matrix multiplication using python\n",
        "\n",
        "def Multiply(m1,m2):\n",
        "    Rows = len(m1)\n",
        "    Col = len(m2[0])\n",
        "    MatrixMul = [[0] * Col for i in range(Rows)]\n",
        "    for i in range(Rows):\n",
        "        for j in range(Col):\n",
        "            for k in range(len(m2)):\n",
        "                MatrixMul[i][j]+=m1[i][k]*m2[k][j]\n",
        "    return MatrixMul    \n",
        "m1 = [[2,3,2],[4,7,8]]\n",
        "m2 = [[3,4,5,8,7],[6,8,2,1,4],[3,6,7,4,6]]\n",
        "print(Multiply(m1,m2))\n"
      ],
      "execution_count": 18,
      "outputs": [
        {
          "output_type": "stream",
          "text": [
            "[[30, 44, 30, 27, 38], [78, 120, 90, 71, 104]]\n"
          ],
          "name": "stdout"
        }
      ]
    },
    {
      "cell_type": "code",
      "metadata": {
        "id": "uxnawWG-ypZf",
        "colab_type": "code",
        "colab": {
          "base_uri": "https://localhost:8080/",
          "height": 50
        },
        "outputId": "0579a7ea-692a-43dc-d9a1-4f1f26f8267b"
      },
      "source": [
        "#Matrix multiplication using numpy\n",
        "import numpy as np\n",
        "def Multiply(m1,m2):\n",
        "    res = np.dot(m1,m2)\n",
        "    return res\n",
        "m1 = [[2,3,2],[4,7,8]]\n",
        "m2 = [[3,4,5,8,7],[6,8,2,1,4],[3,6,7,4,6]]\n",
        "Result = Multiply(m1,m2)\n",
        "print(Result)"
      ],
      "execution_count": 19,
      "outputs": [
        {
          "output_type": "stream",
          "text": [
            "[[ 30  44  30  27  38]\n",
            " [ 78 120  90  71 104]]\n"
          ],
          "name": "stdout"
        }
      ]
    },
    {
      "cell_type": "code",
      "metadata": {
        "id": "c_ZX4Kg9zAME",
        "colab_type": "code",
        "colab": {
          "base_uri": "https://localhost:8080/",
          "height": 50
        },
        "outputId": "7eb9a0f3-1d19-444f-a6f7-7e4a54e4df0d"
      },
      "source": [
        "#Removing duplicate elements from the list\n",
        "def Removedup(list):\n",
        "    d = []\n",
        "    print(\"The original list is:\",list)\n",
        "    for i in list:\n",
        "        if i not in d:\n",
        "            d.append(i)\n",
        "    return d\n",
        "list = [1,3,4,5,6,7,3,4,2,6,8,5,3,8]\n",
        "result = Removedup(list)\n",
        "print(\"list after removing duplicates:\",result)"
      ],
      "execution_count": 21,
      "outputs": [
        {
          "output_type": "stream",
          "text": [
            "The original list is: [1, 3, 4, 5, 6, 7, 3, 4, 2, 6, 8, 5, 3, 8]\n",
            "list after removing duplicates: [1, 3, 4, 5, 6, 7, 2, 8]\n"
          ],
          "name": "stdout"
        }
      ]
    },
    {
      "cell_type": "code",
      "metadata": {
        "id": "O0DFBf05zo_f",
        "colab_type": "code",
        "colab": {
          "base_uri": "https://localhost:8080/",
          "height": 50
        },
        "outputId": "eb5a9079-2d25-48c6-9d38-1362d18fa182"
      },
      "source": [
        "# fibinocci series\n",
        "def fibinocci(n):\n",
        "    a = 0\n",
        "    b = 1\n",
        "    if n < 0:\n",
        "        print(\"enter a positive number\")\n",
        "    else:\n",
        "        print(a,end=\"  \")\n",
        "        for i in range(2,n+1):\n",
        "            temp = a + b\n",
        "            a = b\n",
        "            b = temp\n",
        "            print(temp,end= '  ')\n",
        "fibinocci(int(input(\"enter a number for fibinocci==>\")))"
      ],
      "execution_count": 22,
      "outputs": [
        {
          "output_type": "stream",
          "text": [
            "enter a number for fibinocci==>20\n",
            "0  1  2  3  5  8  13  21  34  55  89  144  233  377  610  987  1597  2584  4181  6765  "
          ],
          "name": "stdout"
        }
      ]
    },
    {
      "cell_type": "code",
      "metadata": {
        "id": "YTPf1OEf0S8F",
        "colab_type": "code",
        "colab": {
          "base_uri": "https://localhost:8080/",
          "height": 67
        },
        "outputId": "c6c8a96e-83ba-4f52-f5bd-5ef789c61227"
      },
      "source": [
        "#Reshape of matrix using numpy\n",
        "import numpy as np \n",
        "           \n",
        "a = np.array([64, 1,3,4,5,1]) \n",
        "print(a)\n",
        "\n",
        "b = a.reshape(2,3)\n",
        "print(b)"
      ],
      "execution_count": 49,
      "outputs": [
        {
          "output_type": "stream",
          "text": [
            "[64  1  3  4  5  1]\n",
            "[[64  1  3]\n",
            " [ 4  5  1]]\n"
          ],
          "name": "stdout"
        }
      ]
    }
  ]
}
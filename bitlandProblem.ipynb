{
  "nbformat": 4,
  "nbformat_minor": 0,
  "metadata": {
    "colab": {
      "name": "bitlandProblem.ipynb",
      "provenance": [],
      "collapsed_sections": [],
      "authorship_tag": "ABX9TyMrSA+uUr+S1VPopU9jlw24",
      "include_colab_link": true
    },
    "kernelspec": {
      "name": "python3",
      "display_name": "Python 3"
    }
  },
  "cells": [
    {
      "cell_type": "markdown",
      "metadata": {
        "id": "view-in-github",
        "colab_type": "text"
      },
      "source": [
        "<a href=\"https://colab.research.google.com/github/antonysandesh/my-first-repo/blob/master/bitlandProblem.ipynb\" target=\"_parent\"><img src=\"https://colab.research.google.com/assets/colab-badge.svg\" alt=\"Open In Colab\"/></a>"
      ]
    },
    {
      "cell_type": "code",
      "metadata": {
        "id": "MN8hkfLhz7LG",
        "colab_type": "code",
        "colab": {}
      },
      "source": [
        "#bitland problem\n",
        "import numpy as np\n",
        "\n",
        "a =np.array([[0,0],\n",
        "            [0,1],\n",
        "            [2,3],\n",
        "            [4,4],\n",
        "            [3,2]])\n",
        "b = np.array([[0,4],\n",
        "            [1,0],\n",
        "            [2,4],\n",
        "            [3,1]])"
      ],
      "execution_count": 0,
      "outputs": []
    },
    {
      "cell_type": "code",
      "metadata": {
        "id": "dFrB-6jt02yY",
        "colab_type": "code",
        "outputId": "0a4c555c-a978-46bf-a570-26aaccbb8b0a",
        "colab": {
          "base_uri": "https://localhost:8080/",
          "height": 168
        }
      },
      "source": [
        "print(a)\n",
        "print(b)"
      ],
      "execution_count": 2,
      "outputs": [
        {
          "output_type": "stream",
          "text": [
            "[[0 0]\n",
            " [0 1]\n",
            " [2 3]\n",
            " [4 4]\n",
            " [3 2]]\n",
            "[[0 4]\n",
            " [1 0]\n",
            " [2 4]\n",
            " [3 1]]\n"
          ],
          "name": "stdout"
        }
      ]
    },
    {
      "cell_type": "code",
      "metadata": {
        "id": "lQliAcq105Sv",
        "colab_type": "code",
        "outputId": "c5fc8a8c-39d3-45d9-9ca0-5b1f9efbf2c4",
        "colab": {
          "base_uri": "https://localhost:8080/",
          "height": 101
        }
      },
      "source": [
        "from scipy.spatial.distance import cdist\n",
        "\n",
        "c = cdist(a,b)\n",
        "print(c)"
      ],
      "execution_count": 3,
      "outputs": [
        {
          "output_type": "stream",
          "text": [
            "[[4.         1.         4.47213595 3.16227766]\n",
            " [3.         1.41421356 3.60555128 3.        ]\n",
            " [2.23606798 3.16227766 1.         2.23606798]\n",
            " [4.         5.         2.         3.16227766]\n",
            " [3.60555128 2.82842712 2.23606798 1.        ]]\n"
          ],
          "name": "stdout"
        }
      ]
    },
    {
      "cell_type": "code",
      "metadata": {
        "id": "qWtZF6Op41Un",
        "colab_type": "code",
        "outputId": "b26fa145-3b2d-4561-a730-32f855fc4062",
        "colab": {
          "base_uri": "https://localhost:8080/",
          "height": 34
        }
      },
      "source": [
        "#1-1\n",
        "a[:,0].argmax()"
      ],
      "execution_count": 4,
      "outputs": [
        {
          "output_type": "execute_result",
          "data": {
            "text/plain": [
              "3"
            ]
          },
          "metadata": {
            "tags": []
          },
          "execution_count": 4
        }
      ]
    },
    {
      "cell_type": "code",
      "metadata": {
        "id": "C0aGKP4z5vBD",
        "colab_type": "code",
        "outputId": "cc88fdb4-ad5f-44b6-9575-9b84a5f28b90",
        "colab": {
          "base_uri": "https://localhost:8080/",
          "height": 34
        }
      },
      "source": [
        "#1-2\n",
        "a[:,1].argmax()"
      ],
      "execution_count": 5,
      "outputs": [
        {
          "output_type": "execute_result",
          "data": {
            "text/plain": [
              "3"
            ]
          },
          "metadata": {
            "tags": []
          },
          "execution_count": 5
        }
      ]
    },
    {
      "cell_type": "code",
      "metadata": {
        "id": "D0YUcSk16bGf",
        "colab_type": "code",
        "outputId": "324f0e17-1631-4e40-c1c7-3e9b8a2d0ad9",
        "colab": {
          "base_uri": "https://localhost:8080/",
          "height": 34
        }
      },
      "source": [
        "#1-3\n",
        "cdist(a,[[0,0]]).argmax(axis=0)"
      ],
      "execution_count": 6,
      "outputs": [
        {
          "output_type": "execute_result",
          "data": {
            "text/plain": [
              "array([3])"
            ]
          },
          "metadata": {
            "tags": []
          },
          "execution_count": 6
        }
      ]
    },
    {
      "cell_type": "code",
      "metadata": {
        "id": "1Di9ycmj6oXe",
        "colab_type": "code",
        "outputId": "b22246b1-eb11-4b4c-d216-723766934f82",
        "colab": {
          "base_uri": "https://localhost:8080/",
          "height": 34
        }
      },
      "source": [
        "#1-4\n",
        "b.argmax(axis=0)"
      ],
      "execution_count": 7,
      "outputs": [
        {
          "output_type": "execute_result",
          "data": {
            "text/plain": [
              "array([3, 0])"
            ]
          },
          "metadata": {
            "tags": []
          },
          "execution_count": 7
        }
      ]
    },
    {
      "cell_type": "code",
      "metadata": {
        "id": "bnamhupb8JSb",
        "colab_type": "code",
        "outputId": "ec4d9293-9a94-4c32-9283-128e1aefef56",
        "colab": {
          "base_uri": "https://localhost:8080/",
          "height": 34
        }
      },
      "source": [
        "#1-5\n",
        "cdist(b,[[0,0]]).argmax(axis=0)"
      ],
      "execution_count": 8,
      "outputs": [
        {
          "output_type": "execute_result",
          "data": {
            "text/plain": [
              "array([2])"
            ]
          },
          "metadata": {
            "tags": []
          },
          "execution_count": 8
        }
      ]
    },
    {
      "cell_type": "code",
      "metadata": {
        "id": "aNTyLTlH8XRl",
        "colab_type": "code",
        "outputId": "159ded1d-ba55-4a11-f780-24ee7464ea4b",
        "colab": {
          "base_uri": "https://localhost:8080/",
          "height": 34
        }
      },
      "source": [
        "#1-6\n",
        "cdist(b,[[0,0]]).max(axis=0)"
      ],
      "execution_count": 9,
      "outputs": [
        {
          "output_type": "execute_result",
          "data": {
            "text/plain": [
              "array([4.47213595])"
            ]
          },
          "metadata": {
            "tags": []
          },
          "execution_count": 9
        }
      ]
    },
    {
      "cell_type": "code",
      "metadata": {
        "id": "BwB0PX7Z9B5z",
        "colab_type": "code",
        "outputId": "a773993c-7c69-43b0-f277-6702f02ed7db",
        "colab": {
          "base_uri": "https://localhost:8080/",
          "height": 34
        }
      },
      "source": [
        "#2-1\n",
        "c[0,0]"
      ],
      "execution_count": 10,
      "outputs": [
        {
          "output_type": "execute_result",
          "data": {
            "text/plain": [
              "4.0"
            ]
          },
          "metadata": {
            "tags": []
          },
          "execution_count": 10
        }
      ]
    },
    {
      "cell_type": "code",
      "metadata": {
        "id": "Na5kKNSE9GM-",
        "colab_type": "code",
        "outputId": "5d458110-1603-4905-9152-9b39d76505ad",
        "colab": {
          "base_uri": "https://localhost:8080/",
          "height": 34
        }
      },
      "source": [
        "#2-2\n",
        "c[2]"
      ],
      "execution_count": 11,
      "outputs": [
        {
          "output_type": "execute_result",
          "data": {
            "text/plain": [
              "array([2.23606798, 3.16227766, 1.        , 2.23606798])"
            ]
          },
          "metadata": {
            "tags": []
          },
          "execution_count": 11
        }
      ]
    },
    {
      "cell_type": "code",
      "metadata": {
        "id": "m2OizOY19Hi0",
        "colab_type": "code",
        "outputId": "263af960-c7b4-4fbe-babb-b1b53f425c8d",
        "colab": {
          "base_uri": "https://localhost:8080/",
          "height": 101
        }
      },
      "source": [
        "#2-3\n",
        "c"
      ],
      "execution_count": 12,
      "outputs": [
        {
          "output_type": "execute_result",
          "data": {
            "text/plain": [
              "array([[4.        , 1.        , 4.47213595, 3.16227766],\n",
              "       [3.        , 1.41421356, 3.60555128, 3.        ],\n",
              "       [2.23606798, 3.16227766, 1.        , 2.23606798],\n",
              "       [4.        , 5.        , 2.        , 3.16227766],\n",
              "       [3.60555128, 2.82842712, 2.23606798, 1.        ]])"
            ]
          },
          "metadata": {
            "tags": []
          },
          "execution_count": 12
        }
      ]
    },
    {
      "cell_type": "code",
      "metadata": {
        "id": "heZq1RTS9KMG",
        "colab_type": "code",
        "outputId": "2d7542b1-c5fa-48e4-bd86-66dd6c01c918",
        "colab": {
          "base_uri": "https://localhost:8080/",
          "height": 34
        }
      },
      "source": [
        "#3-1\n",
        "c[2].argmin()"
      ],
      "execution_count": 13,
      "outputs": [
        {
          "output_type": "execute_result",
          "data": {
            "text/plain": [
              "2"
            ]
          },
          "metadata": {
            "tags": []
          },
          "execution_count": 13
        }
      ]
    },
    {
      "cell_type": "code",
      "metadata": {
        "id": "CKCE0vyg9Vf3",
        "colab_type": "code",
        "outputId": "c6916957-8ec6-428a-f708-4d67284813b0",
        "colab": {
          "base_uri": "https://localhost:8080/",
          "height": 34
        }
      },
      "source": [
        "#3-2\n",
        "c.argmin(axis=1)"
      ],
      "execution_count": 14,
      "outputs": [
        {
          "output_type": "execute_result",
          "data": {
            "text/plain": [
              "array([1, 1, 2, 2, 3])"
            ]
          },
          "metadata": {
            "tags": []
          },
          "execution_count": 14
        }
      ]
    },
    {
      "cell_type": "code",
      "metadata": {
        "id": "4xdRu3aP9kuM",
        "colab_type": "code",
        "outputId": "c96b6c90-3b9b-4b17-d302-e20d1bbeb393",
        "colab": {
          "base_uri": "https://localhost:8080/",
          "height": 34
        }
      },
      "source": [
        "#3-3\n",
        "c.argmax(axis=1)"
      ],
      "execution_count": 15,
      "outputs": [
        {
          "output_type": "execute_result",
          "data": {
            "text/plain": [
              "array([2, 2, 1, 1, 0])"
            ]
          },
          "metadata": {
            "tags": []
          },
          "execution_count": 15
        }
      ]
    },
    {
      "cell_type": "code",
      "metadata": {
        "id": "uvmA6uPu-SFb",
        "colab_type": "code",
        "outputId": "8523b343-ace9-45ff-a9a2-87c9f5c38911",
        "colab": {
          "base_uri": "https://localhost:8080/",
          "height": 34
        }
      },
      "source": [
        "#3-4\n",
        "c.min(axis=1)"
      ],
      "execution_count": 16,
      "outputs": [
        {
          "output_type": "execute_result",
          "data": {
            "text/plain": [
              "array([1.        , 1.41421356, 1.        , 2.        , 1.        ])"
            ]
          },
          "metadata": {
            "tags": []
          },
          "execution_count": 16
        }
      ]
    },
    {
      "cell_type": "code",
      "metadata": {
        "id": "n1hf3IWv-hTe",
        "colab_type": "code",
        "outputId": "cf301731-2605-4c71-8741-4d6479f5a05a",
        "colab": {
          "base_uri": "https://localhost:8080/",
          "height": 34
        }
      },
      "source": [
        "#4-1\n",
        "c[:,1].argmin(axis=0)\n"
      ],
      "execution_count": 17,
      "outputs": [
        {
          "output_type": "execute_result",
          "data": {
            "text/plain": [
              "0"
            ]
          },
          "metadata": {
            "tags": []
          },
          "execution_count": 17
        }
      ]
    },
    {
      "cell_type": "code",
      "metadata": {
        "id": "v2R8haCI_YDD",
        "colab_type": "code",
        "outputId": "38f13e8c-b9d5-42c8-ccd8-1522b5cd57dd",
        "colab": {
          "base_uri": "https://localhost:8080/",
          "height": 34
        }
      },
      "source": [
        "#4-2\n",
        "c.argmin(axis=0)"
      ],
      "execution_count": 18,
      "outputs": [
        {
          "output_type": "execute_result",
          "data": {
            "text/plain": [
              "array([2, 0, 2, 4])"
            ]
          },
          "metadata": {
            "tags": []
          },
          "execution_count": 18
        }
      ]
    },
    {
      "cell_type": "code",
      "metadata": {
        "id": "yGdoYg9ZAC_s",
        "colab_type": "code",
        "outputId": "6e175a94-c86b-4c7a-acb6-f71f359f62a9",
        "colab": {
          "base_uri": "https://localhost:8080/",
          "height": 34
        }
      },
      "source": [
        "4-3\n",
        "c.min(axis=0)"
      ],
      "execution_count": 19,
      "outputs": [
        {
          "output_type": "execute_result",
          "data": {
            "text/plain": [
              "array([2.23606798, 1.        , 1.        , 1.        ])"
            ]
          },
          "metadata": {
            "tags": []
          },
          "execution_count": 19
        }
      ]
    },
    {
      "cell_type": "code",
      "metadata": {
        "id": "cJ5yjj-iAURY",
        "colab_type": "code",
        "outputId": "930a6c81-77e8-4189-d7b7-8d949aa7a5e0",
        "colab": {
          "base_uri": "https://localhost:8080/",
          "height": 34
        }
      },
      "source": [
        "#5-1\n",
        "c[2].sum()"
      ],
      "execution_count": 20,
      "outputs": [
        {
          "output_type": "execute_result",
          "data": {
            "text/plain": [
              "8.63441361516796"
            ]
          },
          "metadata": {
            "tags": []
          },
          "execution_count": 20
        }
      ]
    },
    {
      "cell_type": "code",
      "metadata": {
        "id": "IwI4aMGzAjaA",
        "colab_type": "code",
        "outputId": "a3f047c7-492f-4f2a-b7f8-be7d21b4fb26",
        "colab": {
          "base_uri": "https://localhost:8080/",
          "height": 34
        }
      },
      "source": [
        "#5-2\n",
        "c.sum(axis=1)"
      ],
      "execution_count": 21,
      "outputs": [
        {
          "output_type": "execute_result",
          "data": {
            "text/plain": [
              "array([12.63441362, 11.01976484,  8.63441362, 14.16227766,  9.67004638])"
            ]
          },
          "metadata": {
            "tags": []
          },
          "execution_count": 21
        }
      ]
    },
    {
      "cell_type": "code",
      "metadata": {
        "id": "qb56pc3RAvTp",
        "colab_type": "code",
        "outputId": "c5b9f7d5-9e8f-42a4-f45c-bdf043d9484b",
        "colab": {
          "base_uri": "https://localhost:8080/",
          "height": 34
        }
      },
      "source": [
        "#5-3\n",
        "c[:,[0,1,3]].sum(axis=1)"
      ],
      "execution_count": 22,
      "outputs": [
        {
          "output_type": "execute_result",
          "data": {
            "text/plain": [
              "array([ 8.16227766,  7.41421356,  7.63441362, 12.16227766,  7.4339784 ])"
            ]
          },
          "metadata": {
            "tags": []
          },
          "execution_count": 22
        }
      ]
    },
    {
      "cell_type": "code",
      "metadata": {
        "id": "Xs-TMrQVA_tB",
        "colab_type": "code",
        "outputId": "5457b4bb-d187-40b6-d3ea-958ab38d8fc4",
        "colab": {
          "base_uri": "https://localhost:8080/",
          "height": 34
        }
      },
      "source": [
        "#5-4\n",
        "c[:,[1,3]].sum(axis=1)"
      ],
      "execution_count": 23,
      "outputs": [
        {
          "output_type": "execute_result",
          "data": {
            "text/plain": [
              "array([4.16227766, 4.41421356, 5.39834564, 8.16227766, 3.82842712])"
            ]
          },
          "metadata": {
            "tags": []
          },
          "execution_count": 23
        }
      ]
    },
    {
      "cell_type": "code",
      "metadata": {
        "id": "jOgcGZ8YBM-p",
        "colab_type": "code",
        "outputId": "7559f97c-921b-4a05-ec6e-739e4fc696cc",
        "colab": {
          "base_uri": "https://localhost:8080/",
          "height": 34
        }
      },
      "source": [
        "#or other way to remove the super markets \n",
        "c.sum(axis=1) - c[:,[0,1]].sum(axis=1)"
      ],
      "execution_count": 24,
      "outputs": [
        {
          "output_type": "execute_result",
          "data": {
            "text/plain": [
              "array([7.63441362, 6.60555128, 3.23606798, 5.16227766, 3.23606798])"
            ]
          },
          "metadata": {
            "tags": []
          },
          "execution_count": 24
        }
      ]
    },
    {
      "cell_type": "code",
      "metadata": {
        "id": "nRU-QWqwCQNQ",
        "colab_type": "code",
        "outputId": "6d750f90-0821-4c8a-d1a6-7b83018e0b87",
        "colab": {
          "base_uri": "https://localhost:8080/",
          "height": 34
        }
      },
      "source": [
        "#6-1\n",
        "c.mean(axis=1)"
      ],
      "execution_count": 25,
      "outputs": [
        {
          "output_type": "execute_result",
          "data": {
            "text/plain": [
              "array([3.1586034 , 2.75494121, 2.1586034 , 3.54056942, 2.41751159])"
            ]
          },
          "metadata": {
            "tags": []
          },
          "execution_count": 25
        }
      ]
    },
    {
      "cell_type": "code",
      "metadata": {
        "id": "z05fwfTpCqMq",
        "colab_type": "code",
        "outputId": "119f9f1a-921e-4e6f-fddd-a4db88136e85",
        "colab": {
          "base_uri": "https://localhost:8080/",
          "height": 34
        }
      },
      "source": [
        "#6-2\n",
        "c.mean(axis=0)"
      ],
      "execution_count": 26,
      "outputs": [
        {
          "output_type": "execute_result",
          "data": {
            "text/plain": [
              "array([3.36832385, 2.68098367, 2.66275104, 2.51212466])"
            ]
          },
          "metadata": {
            "tags": []
          },
          "execution_count": 26
        }
      ]
    },
    {
      "cell_type": "code",
      "metadata": {
        "id": "BPNeXKVFDXQD",
        "colab_type": "code",
        "outputId": "50b6d63a-c845-4c23-eec3-c9ba2ec2ca44",
        "colab": {
          "base_uri": "https://localhost:8080/",
          "height": 286
        }
      },
      "source": [
        "#7-1\n",
        "c_int = c.astype(int)\n",
        "print(c)\n",
        "print(c_int)\n",
        "print(c == c_int)\n",
        "print((c == c_int).sum())\n"
      ],
      "execution_count": 27,
      "outputs": [
        {
          "output_type": "stream",
          "text": [
            "[[4.         1.         4.47213595 3.16227766]\n",
            " [3.         1.41421356 3.60555128 3.        ]\n",
            " [2.23606798 3.16227766 1.         2.23606798]\n",
            " [4.         5.         2.         3.16227766]\n",
            " [3.60555128 2.82842712 2.23606798 1.        ]]\n",
            "[[4 1 4 3]\n",
            " [3 1 3 3]\n",
            " [2 3 1 2]\n",
            " [4 5 2 3]\n",
            " [3 2 2 1]]\n",
            "[[ True  True False False]\n",
            " [ True False False  True]\n",
            " [False False  True False]\n",
            " [ True  True  True False]\n",
            " [False False False  True]]\n",
            "9\n"
          ],
          "name": "stdout"
        }
      ]
    },
    {
      "cell_type": "code",
      "metadata": {
        "id": "PDzNeDFaFxVU",
        "colab_type": "code",
        "outputId": "58f4918d-bb4b-4682-9e40-e2148f9d8b22",
        "colab": {
          "base_uri": "https://localhost:8080/",
          "height": 34
        }
      },
      "source": [
        "#7-2\n",
        "(c == c_int).sum(axis=0).argmax()"
      ],
      "execution_count": 28,
      "outputs": [
        {
          "output_type": "execute_result",
          "data": {
            "text/plain": [
              "0"
            ]
          },
          "metadata": {
            "tags": []
          },
          "execution_count": 28
        }
      ]
    },
    {
      "cell_type": "code",
      "metadata": {
        "id": "bfu1W0V7F32B",
        "colab_type": "code",
        "outputId": "1f322c49-c688-49c4-f420-3bf74c7c2f39",
        "colab": {
          "base_uri": "https://localhost:8080/",
          "height": 202
        }
      },
      "source": [
        "#7-3\n",
        "mask = (c == c_int)\n",
        "print(mask)\n",
        "print(mask * c_int )\n",
        "print((mask * c_int).sum(axis=1))\n",
        " "
      ],
      "execution_count": 29,
      "outputs": [
        {
          "output_type": "stream",
          "text": [
            "[[ True  True False False]\n",
            " [ True False False  True]\n",
            " [False False  True False]\n",
            " [ True  True  True False]\n",
            " [False False False  True]]\n",
            "[[4 1 0 0]\n",
            " [3 0 0 3]\n",
            " [0 0 1 0]\n",
            " [4 5 2 0]\n",
            " [0 0 0 1]]\n",
            "[ 5  6  1 11  1]\n"
          ],
          "name": "stdout"
        }
      ]
    },
    {
      "cell_type": "code",
      "metadata": {
        "id": "7HjE8FD5IK1g",
        "colab_type": "code",
        "outputId": "26541e42-3315-42db-ea06-f3a2c2b18f45",
        "colab": {
          "base_uri": "https://localhost:8080/",
          "height": 34
        }
      },
      "source": [
        "#7-4\n",
        "c.sum(axis=1) - (mask*c).sum(axis=1)\n"
      ],
      "execution_count": 30,
      "outputs": [
        {
          "output_type": "execute_result",
          "data": {
            "text/plain": [
              "array([7.63441362, 5.01976484, 7.63441362, 3.16227766, 8.67004638])"
            ]
          },
          "metadata": {
            "tags": []
          },
          "execution_count": 30
        }
      ]
    },
    {
      "cell_type": "code",
      "metadata": {
        "id": "Bv7Ksg26cQyc",
        "colab_type": "code",
        "outputId": "38e7d592-ccda-4fa1-bdab-2ae7b7f43528",
        "colab": {
          "base_uri": "https://localhost:8080/",
          "height": 34
        }
      },
      "source": [
        "# 8-1\n",
        "c[:,0].argmax()"
      ],
      "execution_count": 31,
      "outputs": [
        {
          "output_type": "execute_result",
          "data": {
            "text/plain": [
              "0"
            ]
          },
          "metadata": {
            "tags": []
          },
          "execution_count": 31
        }
      ]
    },
    {
      "cell_type": "code",
      "metadata": {
        "id": "r3EBsAaWd9RA",
        "colab_type": "code",
        "outputId": "9b7ef77e-8609-48da-d954-b26ef9e7a457",
        "colab": {
          "base_uri": "https://localhost:8080/",
          "height": 34
        }
      },
      "source": [
        "#8-2\n",
        "c.min(axis=1).argmax()"
      ],
      "execution_count": 32,
      "outputs": [
        {
          "output_type": "execute_result",
          "data": {
            "text/plain": [
              "3"
            ]
          },
          "metadata": {
            "tags": []
          },
          "execution_count": 32
        }
      ]
    },
    {
      "cell_type": "code",
      "metadata": {
        "id": "o8q5hyMCfsEL",
        "colab_type": "code",
        "outputId": "37659334-b41c-4a89-bf7d-77f0feb54294",
        "colab": {
          "base_uri": "https://localhost:8080/",
          "height": 34
        }
      },
      "source": [
        "#8-3\n",
        "c.min(axis=1)"
      ],
      "execution_count": 33,
      "outputs": [
        {
          "output_type": "execute_result",
          "data": {
            "text/plain": [
              "array([1.        , 1.41421356, 1.        , 2.        , 1.        ])"
            ]
          },
          "metadata": {
            "tags": []
          },
          "execution_count": 33
        }
      ]
    },
    {
      "cell_type": "code",
      "metadata": {
        "id": "UELE2eeAgLo1",
        "colab_type": "code",
        "outputId": "b74cb6a1-b4d3-404c-a3b8-e79ede2cfec7",
        "colab": {
          "base_uri": "https://localhost:8080/",
          "height": 34
        }
      },
      "source": [
        "#8-4\n",
        "c.min(axis=0)"
      ],
      "execution_count": 34,
      "outputs": [
        {
          "output_type": "execute_result",
          "data": {
            "text/plain": [
              "array([2.23606798, 1.        , 1.        , 1.        ])"
            ]
          },
          "metadata": {
            "tags": []
          },
          "execution_count": 34
        }
      ]
    },
    {
      "cell_type": "code",
      "metadata": {
        "id": "hZHRK7NvgYzj",
        "colab_type": "code",
        "outputId": "90b57f87-c62c-4a34-c951-46f98ee6e38d",
        "colab": {
          "base_uri": "https://localhost:8080/",
          "height": 34
        }
      },
      "source": [
        "#9-1\n",
        "c.sum(axis=1).argmax()"
      ],
      "execution_count": 35,
      "outputs": [
        {
          "output_type": "execute_result",
          "data": {
            "text/plain": [
              "3"
            ]
          },
          "metadata": {
            "tags": []
          },
          "execution_count": 35
        }
      ]
    },
    {
      "cell_type": "code",
      "metadata": {
        "id": "-enjq7obglut",
        "colab_type": "code",
        "outputId": "3e6240bb-8a93-4272-c08d-45950b598b60",
        "colab": {
          "base_uri": "https://localhost:8080/",
          "height": 34
        }
      },
      "source": [
        "c.sum(axis=1).argmin()"
      ],
      "execution_count": 36,
      "outputs": [
        {
          "output_type": "execute_result",
          "data": {
            "text/plain": [
              "2"
            ]
          },
          "metadata": {
            "tags": []
          },
          "execution_count": 36
        }
      ]
    },
    {
      "cell_type": "code",
      "metadata": {
        "id": "H_fbeW0Mguzs",
        "colab_type": "code",
        "outputId": "8652e08b-a1c2-4ef6-d0c6-87fabed306b1",
        "colab": {
          "base_uri": "https://localhost:8080/",
          "height": 34
        }
      },
      "source": [
        "#9-2\n",
        " c.sum(axis=1).argsort()"
      ],
      "execution_count": 37,
      "outputs": [
        {
          "output_type": "execute_result",
          "data": {
            "text/plain": [
              "array([2, 4, 1, 0, 3])"
            ]
          },
          "metadata": {
            "tags": []
          },
          "execution_count": 37
        }
      ]
    },
    {
      "cell_type": "code",
      "metadata": {
        "id": "I8dXuF6xg-Ce",
        "colab_type": "code",
        "outputId": "f599d51b-b420-40c8-a51b-ab0765c00c1b",
        "colab": {
          "base_uri": "https://localhost:8080/",
          "height": 34
        }
      },
      "source": [
        "#10\n",
        "x = np.where(c < 4)\n",
        "print(x)"
      ],
      "execution_count": 38,
      "outputs": [
        {
          "output_type": "stream",
          "text": [
            "(array([0, 0, 1, 1, 1, 1, 2, 2, 2, 2, 3, 3, 4, 4, 4, 4]), array([1, 3, 0, 1, 2, 3, 0, 1, 2, 3, 2, 3, 0, 1, 2, 3]))\n"
          ],
          "name": "stdout"
        }
      ]
    },
    {
      "cell_type": "code",
      "metadata": {
        "id": "sVoUmEKCo-60",
        "colab_type": "code",
        "outputId": "0e20219c-8322-4550-ec05-c7018a62d964",
        "colab": {
          "base_uri": "https://localhost:8080/",
          "height": 286
        }
      },
      "source": [
        "list(zip(x[0],x[1]))"
      ],
      "execution_count": 39,
      "outputs": [
        {
          "output_type": "execute_result",
          "data": {
            "text/plain": [
              "[(0, 1),\n",
              " (0, 3),\n",
              " (1, 0),\n",
              " (1, 1),\n",
              " (1, 2),\n",
              " (1, 3),\n",
              " (2, 0),\n",
              " (2, 1),\n",
              " (2, 2),\n",
              " (2, 3),\n",
              " (3, 2),\n",
              " (3, 3),\n",
              " (4, 0),\n",
              " (4, 1),\n",
              " (4, 2),\n",
              " (4, 3)]"
            ]
          },
          "metadata": {
            "tags": []
          },
          "execution_count": 39
        }
      ]
    },
    {
      "cell_type": "code",
      "metadata": {
        "id": "20vZc4SdxKsn",
        "colab_type": "code",
        "colab": {}
      },
      "source": [
        " "
      ],
      "execution_count": 0,
      "outputs": []
    }
  ]
}